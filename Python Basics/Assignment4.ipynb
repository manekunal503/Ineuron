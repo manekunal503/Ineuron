{
 "cells": [
  {
   "cell_type": "code",
   "execution_count": 1,
   "metadata": {},
   "outputs": [
    {
     "name": "stdout",
     "output_type": "stream",
     "text": [
      "Enter side a: 4\n",
      "Enter side b: 3\n",
      "Enter side c: 2\n",
      "Area of traingle is 2.905 cm²\n"
     ]
    }
   ],
   "source": [
    "class Triangle:\n",
    "    def __init__(self):\n",
    "        self.a = float(input(\"Enter side a: \"))\n",
    "        self.b = float(input(\"Enter side b: \"))\n",
    "        self.c = float(input(\"Enter side c: \"))\n",
    "class Area(Triangle):\n",
    "    def area(self):\n",
    "        s = (self.a + self.b + self.c) / 2\n",
    "        area = (s * (s - self.a)*(s - self.b)*(s - self.c)) ** 0.5\n",
    "        print(f\"Area of traingle is {area:.3f} cm\\u00b2\")\n",
    "\n",
    "b =Area()\n",
    "b.area()\n"
   ]
  },
  {
   "cell_type": "code",
   "execution_count": 2,
   "metadata": {},
   "outputs": [
    {
     "name": "stdout",
     "output_type": "stream",
     "text": [
      "Longest words are: ['kelkar', 'veermata', 'computer science', 'ineuron']\n"
     ]
    }
   ],
   "source": [
    "def filter_long_words(words, n):\n",
    "    l = list()\n",
    "    for i in words:\n",
    "        if len(i) > n:\n",
    "            l.append(i)\n",
    "    print(f\"Longest words are: {l}\")\n",
    "lst = [\"hello\", \"world\", \"kelkar\", \"veermata\", \"computer science\", \"ineuron\"]\n",
    "filter_long_words(lst, 5)"
   ]
  },
  {
   "cell_type": "code",
   "execution_count": 3,
   "metadata": {},
   "outputs": [
    {
     "data": {
      "text/plain": [
       "[2, 3, 4]"
      ]
     },
     "execution_count": 3,
     "metadata": {},
     "output_type": "execute_result"
    }
   ],
   "source": [
    "def word_len(words):\n",
    "    return len(words)\n",
    "l = ['ab', 'cde', 'erty']\n",
    "result = map(word_len, l)\n",
    "list(result)\n"
   ]
  },
  {
   "cell_type": "code",
   "execution_count": 4,
   "metadata": {},
   "outputs": [
    {
     "name": "stdout",
     "output_type": "stream",
     "text": [
      "Input your character i\n"
     ]
    },
    {
     "data": {
      "text/plain": [
       "True"
      ]
     },
     "execution_count": 4,
     "metadata": {},
     "output_type": "execute_result"
    }
   ],
   "source": [
    "def vowel_check(char):\n",
    "    if char == \"a\" or char == \"e\" or char == \"i\" or char == \"o\" or char == \"u\":\n",
    "        return True\n",
    "    else:\n",
    "        return False\n",
    "vowel_check(input(\"Input your character \"))"
   ]
  },
  {
   "cell_type": "code",
   "execution_count": null,
   "metadata": {},
   "outputs": [],
   "source": []
  }
 ],
 "metadata": {
  "kernelspec": {
   "display_name": "Python 3",
   "language": "python",
   "name": "python3"
  },
  "language_info": {
   "codemirror_mode": {
    "name": "ipython",
    "version": 3
   },
   "file_extension": ".py",
   "mimetype": "text/x-python",
   "name": "python",
   "nbconvert_exporter": "python",
   "pygments_lexer": "ipython3",
   "version": "3.7.4"
  }
 },
 "nbformat": 4,
 "nbformat_minor": 2
}
